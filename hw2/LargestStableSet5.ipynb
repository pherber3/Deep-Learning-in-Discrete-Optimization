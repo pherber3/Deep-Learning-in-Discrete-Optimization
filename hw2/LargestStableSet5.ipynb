{
 "cells": [
  {
   "cell_type": "code",
   "execution_count": 1,
   "metadata": {},
   "outputs": [],
   "source": [
    "import torch\n",
    "import torch.nn as nn"
   ]
  },
  {
   "cell_type": "markdown",
   "metadata": {},
   "source": [
    "Build a three layer neural network for our task. With PyTorch, we only need to specify the forward layers and we get the backpropgation for free."
   ]
  },
  {
   "cell_type": "code",
   "execution_count": 2,
   "metadata": {},
   "outputs": [],
   "source": [
    "class My_Net(nn.Module): \n",
    "    def __init__(self, input_size, num_neurons):\n",
    "        super(My_Net, self).__init__()\n",
    "        #feed forward layers\n",
    "        self.layer_1 = nn.Linear(input_size, num_neurons)\n",
    "        self.layer_2 = nn.Linear(num_neurons, num_neurons)\n",
    "        self.layer_3 = nn.Linear(num_neurons, num_neurons)\n",
    "        self.layer_4 = nn.Linear(num_neurons, num_neurons)\n",
    "        self.layer_5 = nn.Linear(num_neurons, num_neurons)\n",
    "        self.layer_6 = nn.Linear(num_neurons, num_neurons)\n",
    "        self.layer_7 = nn.Linear(num_neurons, 5)\n",
    "\n",
    "        #activations\n",
    "        self.relu = nn.ReLU()\n",
    "        self.sigmoid = nn.Sigmoid() #Use sigmoid to convert the output into range (0,1)\n",
    "        \n",
    "    def forward(self, input_data):\n",
    "        out = self.layer_1(input_data)\n",
    "        out = self.relu(out)\n",
    "        out = self.layer_2(out)\n",
    "        out = self.relu(out)\n",
    "        out = self.layer_3(out)\n",
    "        out = self.relu(out)\n",
    "        out = self.layer_4(out)\n",
    "        out = self.relu(out)\n",
    "        out = self.layer_5(out)\n",
    "        out = self.relu(out)\n",
    "        out = self.layer_6(out)\n",
    "        out = self.relu(out)\n",
    "        out = self.layer_7(out)\n",
    "        return out"
   ]
  },
  {
   "cell_type": "markdown",
   "metadata": {},
   "source": [
    "Now we want to load our data into tensors. "
   ]
  },
  {
   "cell_type": "code",
   "execution_count": 3,
   "metadata": {},
   "outputs": [],
   "source": [
    "import pandas as pd\n",
    "import numpy as np\n",
    "import matplotlib.pyplot as plt"
   ]
  },
  {
   "cell_type": "code",
   "execution_count": 4,
   "metadata": {},
   "outputs": [],
   "source": [
    "data = np.array(pd.read_table(\"stable5.txt\", delimiter=' ', header=None, skiprows=6, nrows=1024), dtype=int)\n",
    "Xdata = data[:,:-1]\n",
    "Ydata = data[:,-1]-1"
   ]
  },
  {
   "cell_type": "code",
   "execution_count": 5,
   "metadata": {},
   "outputs": [],
   "source": [
    "from sklearn.model_selection import train_test_split\n",
    "X_train, X_test, y_train, y_test = train_test_split(Xdata, Ydata, test_size=0.5)"
   ]
  },
  {
   "cell_type": "code",
   "execution_count": 6,
   "metadata": {},
   "outputs": [
    {
     "data": {
      "text/plain": [
       "(512, 10)"
      ]
     },
     "execution_count": 6,
     "metadata": {},
     "output_type": "execute_result"
    }
   ],
   "source": [
    "np.shape(X_train)"
   ]
  },
  {
   "cell_type": "code",
   "execution_count": 7,
   "metadata": {},
   "outputs": [],
   "source": [
    "#10 neurons for each hidden layers\n",
    "net=My_Net(input_size=10, num_neurons=25)\n",
    "\n",
    "#Standard cross entropy loss for classification tasks\n",
    "loss=nn.CrossEntropyLoss()\n",
    "\n",
    "#Define the optimizer. Here we use Adam optimizer.\n",
    "opt=torch.optim.Adam(net.parameters(),lr=0.0025)"
   ]
  },
  {
   "cell_type": "code",
   "execution_count": 8,
   "metadata": {},
   "outputs": [],
   "source": [
    "Xtrain = torch.Tensor(X_train)\n",
    "Xtest = torch.Tensor(X_test)\n",
    "ytrain = torch.Tensor(y_train).type(torch.LongTensor)\n",
    "ytest = torch.Tensor(y_test).type(torch.LongTensor)"
   ]
  },
  {
   "cell_type": "markdown",
   "metadata": {},
   "source": [
    "Load the data into dataloaders(batches) for stochastic gradient descent."
   ]
  },
  {
   "cell_type": "code",
   "execution_count": 9,
   "metadata": {},
   "outputs": [],
   "source": [
    "train = torch.utils.data.TensorDataset(Xtrain, ytrain)\n",
    "test = torch.utils.data.TensorDataset(Xtest, ytest)\n",
    "\n",
    "train_loader = torch.utils.data.DataLoader(train, batch_size=25,num_workers=2)\n",
    "test_loader = torch.utils.data.DataLoader(test, batch_size=25, shuffle=False,num_workers=2)"
   ]
  },
  {
   "cell_type": "markdown",
   "metadata": {},
   "source": [
    "Define the training and the testing function."
   ]
  },
  {
   "cell_type": "code",
   "execution_count": 10,
   "metadata": {},
   "outputs": [],
   "source": [
    "def train_eval(verbose = 1):\n",
    "    correct = 0\n",
    "    total = 0\n",
    "    loss_sum = 0\n",
    "    num_batches = 0\n",
    "    for inputs, labels in train_loader:\n",
    "        outputs = net(inputs)\n",
    "        predicted = outputs.max(1)[1]\n",
    "        total += labels.size(0)\n",
    "        correct += (predicted.int() == labels.int()).sum()\n",
    "        loss_sum  += loss(outputs,labels).item()\n",
    "        num_batches += 1\n",
    "\n",
    "    if verbose:\n",
    "        print('Train accuracy: %f %%' % (100 * correct.item() / total))\n",
    "    return loss_sum/num_batches, correct.item() / total\n",
    "\n",
    "def test_eval(verbose = 1):\n",
    "    correct = 0\n",
    "    total = 0\n",
    "    loss_sum = 0\n",
    "    num_batches = 0\n",
    "    for inputs, labels in test_loader:\n",
    "        outputs = net(inputs)\n",
    "        predicted = outputs.max(1)[1]\n",
    "        total += labels.size(0)\n",
    "        correct += (predicted.int() == labels.int()).sum()\n",
    "        loss_sum  += loss(outputs,labels).item()\n",
    "        num_batches += 1\n",
    "\n",
    "    if verbose:\n",
    "        print('Test accuracy: %f %%' % (100 * correct.item() / total))\n",
    "    return loss_sum/num_batches, correct.item() / total"
   ]
  },
  {
   "cell_type": "markdown",
   "metadata": {},
   "source": [
    "Train the network and report  the training loss/accuracy."
   ]
  },
  {
   "cell_type": "code",
   "execution_count": 11,
   "metadata": {},
   "outputs": [
    {
     "data": {
      "text/plain": [
       "My_Net(\n",
       "  (layer_1): Linear(in_features=10, out_features=25, bias=True)\n",
       "  (layer_2): Linear(in_features=25, out_features=25, bias=True)\n",
       "  (layer_3): Linear(in_features=25, out_features=25, bias=True)\n",
       "  (layer_4): Linear(in_features=25, out_features=25, bias=True)\n",
       "  (layer_5): Linear(in_features=25, out_features=25, bias=True)\n",
       "  (layer_6): Linear(in_features=25, out_features=25, bias=True)\n",
       "  (layer_7): Linear(in_features=25, out_features=5, bias=True)\n",
       "  (relu): ReLU()\n",
       "  (sigmoid): Sigmoid()\n",
       ")"
      ]
     },
     "execution_count": 11,
     "metadata": {},
     "output_type": "execute_result"
    }
   ],
   "source": [
    "#initialize the network using Xavier initialization.\n",
    "def weights_init(m):\n",
    "    if isinstance(m, nn.Conv2d) or isinstance(m, nn.Linear):\n",
    "        nn.init.xavier_uniform_(m.weight.data)\n",
    "\n",
    "net.apply(weights_init)"
   ]
  },
  {
   "cell_type": "code",
   "execution_count": 12,
   "metadata": {},
   "outputs": [
    {
     "name": "stdout",
     "output_type": "stream",
     "text": [
      "In epoch 1 : \n",
      "Train accuracy: 37.304688 %\n",
      "Test accuracy: 38.281250 %\n",
      "Time lapse: 0.220000 secs\n",
      "In epoch 2 : \n",
      "Train accuracy: 54.687500 %\n",
      "Test accuracy: 56.640625 %\n",
      "Time lapse: 0.160000 secs\n",
      "In epoch 3 : \n",
      "Train accuracy: 70.312500 %\n",
      "Test accuracy: 71.093750 %\n",
      "Time lapse: 0.160000 secs\n",
      "In epoch 4 : \n",
      "Train accuracy: 74.218750 %\n",
      "Test accuracy: 75.781250 %\n",
      "Time lapse: 0.150000 secs\n",
      "In epoch 5 : \n",
      "Train accuracy: 77.734375 %\n",
      "Test accuracy: 77.929688 %\n",
      "Time lapse: 0.150000 secs\n",
      "In epoch 6 : \n",
      "Train accuracy: 79.687500 %\n",
      "Test accuracy: 79.492188 %\n",
      "Time lapse: 0.160000 secs\n",
      "In epoch 7 : \n",
      "Train accuracy: 83.398438 %\n",
      "Test accuracy: 83.203125 %\n",
      "Time lapse: 0.150000 secs\n",
      "In epoch 8 : \n",
      "Train accuracy: 87.304688 %\n",
      "Test accuracy: 84.765625 %\n",
      "Time lapse: 0.140000 secs\n",
      "In epoch 9 : \n",
      "Train accuracy: 88.867188 %\n",
      "Test accuracy: 85.546875 %\n",
      "Time lapse: 0.140000 secs\n",
      "In epoch 10 : \n",
      "Train accuracy: 91.406250 %\n",
      "Test accuracy: 86.523438 %\n",
      "Time lapse: 0.140000 secs\n",
      "In epoch 11 : \n",
      "Train accuracy: 92.382812 %\n",
      "Test accuracy: 87.695312 %\n",
      "Time lapse: 0.140000 secs\n",
      "In epoch 12 : \n",
      "Train accuracy: 94.531250 %\n",
      "Test accuracy: 88.281250 %\n",
      "Time lapse: 0.140000 secs\n",
      "In epoch 13 : \n",
      "Train accuracy: 96.679688 %\n",
      "Test accuracy: 89.453125 %\n",
      "Time lapse: 0.150000 secs\n",
      "In epoch 14 : \n",
      "Train accuracy: 95.898438 %\n",
      "Test accuracy: 89.648438 %\n",
      "Time lapse: 0.190000 secs\n",
      "In epoch 15 : \n",
      "Train accuracy: 95.703125 %\n",
      "Test accuracy: 89.843750 %\n",
      "Time lapse: 0.180000 secs\n",
      "In epoch 16 : \n",
      "Train accuracy: 95.312500 %\n",
      "Test accuracy: 88.867188 %\n",
      "Time lapse: 0.160000 secs\n",
      "In epoch 17 : \n",
      "Train accuracy: 93.359375 %\n",
      "Test accuracy: 85.156250 %\n",
      "Time lapse: 0.180000 secs\n",
      "In epoch 18 : \n",
      "Train accuracy: 98.046875 %\n",
      "Test accuracy: 89.843750 %\n",
      "Time lapse: 0.170000 secs\n",
      "In epoch 19 : \n",
      "Train accuracy: 92.578125 %\n",
      "Test accuracy: 85.351562 %\n",
      "Time lapse: 0.180000 secs\n",
      "In epoch 20 : \n",
      "Train accuracy: 90.039062 %\n",
      "Test accuracy: 83.398438 %\n",
      "Time lapse: 0.180000 secs\n",
      "In epoch 21 : \n",
      "Train accuracy: 94.726562 %\n",
      "Test accuracy: 88.867188 %\n",
      "Time lapse: 0.180000 secs\n",
      "In epoch 22 : \n",
      "Train accuracy: 96.484375 %\n",
      "Test accuracy: 90.234375 %\n",
      "Time lapse: 0.160000 secs\n",
      "In epoch 23 : \n",
      "Train accuracy: 97.851562 %\n",
      "Test accuracy: 92.187500 %\n",
      "Time lapse: 0.170000 secs\n",
      "In epoch 24 : \n",
      "Train accuracy: 98.437500 %\n",
      "Test accuracy: 90.820312 %\n",
      "Time lapse: 0.190000 secs\n",
      "In epoch 25 : \n",
      "Train accuracy: 99.414062 %\n",
      "Test accuracy: 92.382812 %\n",
      "Time lapse: 0.170000 secs\n",
      "In epoch 26 : \n",
      "Train accuracy: 99.414062 %\n",
      "Test accuracy: 92.578125 %\n",
      "Time lapse: 0.150000 secs\n",
      "In epoch 27 : \n",
      "Train accuracy: 99.414062 %\n",
      "Test accuracy: 92.187500 %\n",
      "Time lapse: 0.170000 secs\n",
      "In epoch 28 : \n",
      "Train accuracy: 99.218750 %\n",
      "Test accuracy: 91.992188 %\n",
      "Time lapse: 0.160000 secs\n",
      "In epoch 29 : \n",
      "Train accuracy: 98.632812 %\n",
      "Test accuracy: 91.210938 %\n",
      "Time lapse: 0.160000 secs\n",
      "In epoch 30 : \n",
      "Train accuracy: 98.632812 %\n",
      "Test accuracy: 90.820312 %\n",
      "Time lapse: 0.160000 secs\n",
      "In epoch 31 : \n",
      "Train accuracy: 97.656250 %\n",
      "Test accuracy: 88.476562 %\n",
      "Time lapse: 0.150000 secs\n",
      "In epoch 32 : \n",
      "Train accuracy: 98.046875 %\n",
      "Test accuracy: 89.257812 %\n",
      "Time lapse: 0.180000 secs\n",
      "In epoch 33 : \n",
      "Train accuracy: 94.335938 %\n",
      "Test accuracy: 86.132812 %\n",
      "Time lapse: 0.170000 secs\n",
      "In epoch 34 : \n",
      "Train accuracy: 91.210938 %\n",
      "Test accuracy: 83.984375 %\n",
      "Time lapse: 0.160000 secs\n",
      "In epoch 35 : \n",
      "Train accuracy: 96.093750 %\n",
      "Test accuracy: 87.109375 %\n",
      "Time lapse: 0.160000 secs\n",
      "In epoch 36 : \n",
      "Train accuracy: 96.484375 %\n",
      "Test accuracy: 90.429688 %\n",
      "Time lapse: 0.160000 secs\n",
      "In epoch 37 : \n",
      "Train accuracy: 97.070312 %\n",
      "Test accuracy: 90.820312 %\n",
      "Time lapse: 0.170000 secs\n",
      "In epoch 38 : \n",
      "Train accuracy: 95.703125 %\n",
      "Test accuracy: 86.523438 %\n",
      "Time lapse: 0.160000 secs\n",
      "In epoch 39 : \n",
      "Train accuracy: 93.164062 %\n",
      "Test accuracy: 84.179688 %\n",
      "Time lapse: 0.160000 secs\n",
      "In epoch 40 : \n",
      "Train accuracy: 91.992188 %\n",
      "Test accuracy: 84.765625 %\n",
      "Time lapse: 0.160000 secs\n",
      "In epoch 41 : \n",
      "Train accuracy: 98.828125 %\n",
      "Test accuracy: 92.773438 %\n",
      "Time lapse: 0.150000 secs\n",
      "In epoch 42 : \n",
      "Train accuracy: 93.554688 %\n",
      "Test accuracy: 87.304688 %\n",
      "Time lapse: 0.150000 secs\n",
      "In epoch 43 : \n",
      "Train accuracy: 98.828125 %\n",
      "Test accuracy: 91.796875 %\n",
      "Time lapse: 0.160000 secs\n",
      "In epoch 44 : \n",
      "Train accuracy: 99.804688 %\n",
      "Test accuracy: 93.750000 %\n",
      "Time lapse: 0.160000 secs\n",
      "In epoch 45 : \n",
      "Train accuracy: 99.609375 %\n",
      "Test accuracy: 92.578125 %\n",
      "Time lapse: 0.160000 secs\n",
      "In epoch 46 : \n",
      "Train accuracy: 98.242188 %\n",
      "Test accuracy: 91.210938 %\n",
      "Time lapse: 0.150000 secs\n",
      "In epoch 47 : \n",
      "Train accuracy: 97.265625 %\n",
      "Test accuracy: 90.625000 %\n",
      "Time lapse: 0.150000 secs\n",
      "In epoch 48 : \n",
      "Train accuracy: 98.632812 %\n",
      "Test accuracy: 92.578125 %\n",
      "Time lapse: 0.160000 secs\n",
      "In epoch 49 : \n",
      "Train accuracy: 99.218750 %\n",
      "Test accuracy: 93.359375 %\n",
      "Time lapse: 0.160000 secs\n",
      "In epoch 50 : \n",
      "Train accuracy: 99.023438 %\n",
      "Test accuracy: 93.945312 %\n",
      "Time lapse: 0.160000 secs\n"
     ]
    }
   ],
   "source": [
    "import time\n",
    "\n",
    "epochs=50;\n",
    "train_loss_store = []\n",
    "train_acc_store = []\n",
    "test_loss_store = []\n",
    "test_acc_store = []\n",
    "\n",
    "for epoch in range(epochs):\n",
    "    time1=time.time()\n",
    "    print('In epoch %i : '%(epoch+1))\n",
    "    for i, (x,y) in enumerate(train_loader,0):\n",
    "        #set the gradients to zero initially for each batch\n",
    "        opt.zero_grad()\n",
    "        outputs = net(x)\n",
    "        l=loss(outputs, y)\n",
    "        l.backward()\n",
    "        opt.step()\n",
    "        #break\n",
    "    \n",
    "    l_temp, acc_temp = train_eval()\n",
    "    train_loss_store.append(l_temp)\n",
    "    train_acc_store.append(acc_temp)\n",
    "\n",
    "    l_temp, acc_temp = test_eval()\n",
    "    test_loss_store.append(l_temp)\n",
    "    test_acc_store.append(acc_temp)\n",
    "\n",
    "    time2=time.time()\n",
    "    print(\"Time lapse: %f secs\" %round((time2-time1),2))\n",
    "    #break"
   ]
  },
  {
   "cell_type": "markdown",
   "metadata": {},
   "source": [
    "Visualize the training and testing loss/accuracy."
   ]
  },
  {
   "cell_type": "code",
   "execution_count": 13,
   "metadata": {},
   "outputs": [
    {
     "data": {
      "image/png": "[encoded data removed]",
      "text/plain": [
       "<Figure size 432x288 with 1 Axes>"
      ]
     },
     "metadata": {
      "needs_background": "light"
     },
     "output_type": "display_data"
    }
   ],
   "source": [
    "plt.plot(train_acc_store, 'r-o')\n",
    "plt.plot(test_acc_store, 'b-o')\n",
    "plt.xlabel('number of epochs')\n",
    "plt.ylabel('accuracy')\n",
    "plt.ylim(0,1)\n",
    "plt.legend(('train','test'), loc='upper left')\n",
    "plt.title('train and test accuracy wrt epochs')\n",
    "plt.show()"
   ]
  },
  {
   "cell_type": "code",
   "execution_count": 14,
   "metadata": {},
   "outputs": [
    {
     "data": {
      "image/png": "[encoded data removed]",
      "text/plain": [
       "<Figure size 432x288 with 1 Axes>"
      ]
     },
     "metadata": {
      "needs_background": "light"
     },
     "output_type": "display_data"
    }
   ],
   "source": [
    "plt.plot(train_loss_store,'r-o')\n",
    "plt.plot(test_loss_store,'b-o')\n",
    "plt.xlabel('number of epochs')\n",
    "plt.ylabel('loss')\n",
    "plt.legend(('train','test'),loc='upper right')\n",
    "plt.title('train and test loss wrt epochs')\n",
    "plt.show()"
   ]
  },
  {
   "cell_type": "code",
   "execution_count": null,
   "metadata": {},
   "outputs": [],
   "source": []
  }
 ],
 "metadata": {
  "kernelspec": {
   "display_name": "Python 3",
   "language": "python",
   "name": "python3"
  },
  "language_info": {
   "codemirror_mode": {
    "name": "ipython",
    "version": 3
   },
   "file_extension": ".py",
   "mimetype": "text/x-python",
   "name": "python",
   "nbconvert_exporter": "python",
   "pygments_lexer": "ipython3",
   "version": "3.7.4"
  }
 },
 "nbformat": 4,
 "nbformat_minor": 2
}
